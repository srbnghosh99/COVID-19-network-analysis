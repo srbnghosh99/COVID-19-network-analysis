{
  "nbformat": 4,
  "nbformat_minor": 0,
  "metadata": {
    "colab": {
      "name": "Domain_Network.ipynb",
      "provenance": [],
      "collapsed_sections": [
        "bu3eikjhWXcx",
        "zgppcp5CWpI_",
        "-OjU-o8TXEkz"
      ],
      "toc_visible": true
    },
    "kernelspec": {
      "name": "python3",
      "display_name": "Python 3"
    }
  },
  "cells": [
    {
      "cell_type": "code",
      "metadata": {
        "colab": {
          "base_uri": "https://localhost:8080/"
        },
        "id": "VIWnOXJ26OfT",
        "outputId": "de47cf06-70fb-4d62-f611-f0f7921c5b95"
      },
      "source": [
        "import networkx as nx\n",
        "import matplotlib.pyplot as plt\n",
        "from fa2 import ForceAtlas2\n",
        "import numpy as np\n",
        "from collections import Counter\n",
        "\n",
        "import numpy as np\n",
        "import pandas as pd\n",
        "import seaborn as sns\n",
        "import matplotlib.pyplot as plt\n",
        "from tqdm import tqdm\n",
        "import re\n",
        "from google.colab import drive\n",
        "drive.mount('/content/drive')\n"
      ],
      "execution_count": 7,
      "outputs": [
        {
          "output_type": "stream",
          "text": [
            "Drive already mounted at /content/drive; to attempt to forcibly remount, call drive.mount(\"/content/drive\", force_remount=True).\n"
          ],
          "name": "stdout"
        }
      ]
    },
    {
      "cell_type": "markdown",
      "metadata": {
        "id": "bu3eikjhWXcx"
      },
      "source": [
        "# **Environment setup**"
      ]
    },
    {
      "cell_type": "code",
      "metadata": {
        "colab": {
          "base_uri": "https://localhost:8080/",
          "height": 459
        },
        "id": "OwTTZ7mZ6a3d",
        "outputId": "ddceb4e5-c288-4de1-c555-31e0db3844e4"
      },
      "source": [
        "!pip install fa2l"
      ],
      "execution_count": 2,
      "outputs": [
        {
          "output_type": "stream",
          "text": [
            "Collecting fa2l\n",
            "  Downloading https://files.pythonhosted.org/packages/ca/5c/d2febc43886ab3991e4fd31e901253590360c53b1f648d216477d595558e/fa2l-0.2.tar.gz\n",
            "Collecting networkx<2.0.0\n",
            "\u001b[?25l  Downloading https://files.pythonhosted.org/packages/d3/2c/e473e54afc9fae58dfa97066ef6709a7e35a1dd1c28c5a3842989322be00/networkx-1.11-py2.py3-none-any.whl (1.3MB)\n",
            "\u001b[K     |████████████████████████████████| 1.3MB 7.4MB/s \n",
            "\u001b[?25hRequirement already satisfied: numpy in /usr/local/lib/python3.6/dist-packages (from fa2l) (1.19.5)\n",
            "Requirement already satisfied: decorator>=3.4.0 in /usr/local/lib/python3.6/dist-packages (from networkx<2.0.0->fa2l) (4.4.2)\n",
            "Building wheels for collected packages: fa2l\n",
            "  Building wheel for fa2l (setup.py) ... \u001b[?25l\u001b[?25hdone\n",
            "  Created wheel for fa2l: filename=fa2l-0.2-cp36-none-any.whl size=8871 sha256=d13054fcd6f3eadf42c1d4822953af9d0c5280c1f6a2c204d627ab23165600dd\n",
            "  Stored in directory: /root/.cache/pip/wheels/20/2f/62/09d4d24de06f3a33fbf9f038ad2745d0d5b265690dd98ee6f7\n",
            "Successfully built fa2l\n",
            "\u001b[31mERROR: scikit-image 0.16.2 has requirement networkx>=2.0, but you'll have networkx 1.11 which is incompatible.\u001b[0m\n",
            "\u001b[31mERROR: albumentations 0.1.12 has requirement imgaug<0.2.7,>=0.2.5, but you'll have imgaug 0.2.9 which is incompatible.\u001b[0m\n",
            "Installing collected packages: networkx, fa2l\n",
            "  Found existing installation: networkx 2.5\n",
            "    Uninstalling networkx-2.5:\n",
            "      Successfully uninstalled networkx-2.5\n",
            "Successfully installed fa2l-0.2 networkx-1.11\n"
          ],
          "name": "stdout"
        },
        {
          "output_type": "display_data",
          "data": {
            "application/vnd.colab-display-data+json": {
              "pip_warning": {
                "packages": [
                  "networkx"
                ]
              }
            }
          },
          "metadata": {
            "tags": []
          }
        }
      ]
    },
    {
      "cell_type": "code",
      "metadata": {
        "colab": {
          "base_uri": "https://localhost:8080/"
        },
        "id": "bzBFbHPrE0mo",
        "outputId": "732c1d4e-44ce-4987-8b7a-2e3c25803062"
      },
      "source": [
        "cd /content/drive/MyDrive/Colab Notebooks/fa2l-master"
      ],
      "execution_count": 3,
      "outputs": [
        {
          "output_type": "stream",
          "text": [
            "/content/drive/MyDrive/Colab Notebooks/fa2l-master\n"
          ],
          "name": "stdout"
        }
      ]
    },
    {
      "cell_type": "code",
      "metadata": {
        "colab": {
          "base_uri": "https://localhost:8080/",
          "height": 941
        },
        "id": "NILra0bfE6bz",
        "outputId": "80224aa3-3f4d-4afa-9aa1-44b44fcba134"
      },
      "source": [
        "pwd\n"
      ],
      "execution_count": 4,
      "outputs": [
        {
          "output_type": "execute_result",
          "data": {
            "application/vnd.google.colaboratory.intrinsic+json": {
              "type": "string"
            },
            "text/plain": [
              "'/content/drive/MyDrive/Colab Notebooks/fa2l-master'"
            ]
          },
          "metadata": {
            "tags": []
          },
          "execution_count": 4
        }
      ]
    },
    {
      "cell_type": "code",
      "metadata": {
        "colab": {
          "base_uri": "https://localhost:8080/"
        },
        "id": "JpKWOf7UE-pE",
        "outputId": "266c61ae-da60-4e86-93fa-a0c1493c988a"
      },
      "source": [
        "!python \"setup.py\" install\n"
      ],
      "execution_count": 5,
      "outputs": [
        {
          "output_type": "stream",
          "text": [
            "running install\n",
            "running bdist_egg\n",
            "running egg_info\n",
            "writing fa2l.egg-info/PKG-INFO\n",
            "writing dependency_links to fa2l.egg-info/dependency_links.txt\n",
            "writing requirements to fa2l.egg-info/requires.txt\n",
            "writing top-level names to fa2l.egg-info/top_level.txt\n",
            "reading manifest file 'fa2l.egg-info/SOURCES.txt'\n",
            "writing manifest file 'fa2l.egg-info/SOURCES.txt'\n",
            "installing library code to build/bdist.linux-x86_64/egg\n",
            "running install_lib\n",
            "running build_py\n",
            "creating build/bdist.linux-x86_64/egg\n",
            "creating build/bdist.linux-x86_64/egg/fa2l\n",
            "copying build/lib/fa2l/force.py -> build/bdist.linux-x86_64/egg/fa2l\n",
            "copying build/lib/fa2l/__init__.py -> build/bdist.linux-x86_64/egg/fa2l\n",
            "copying build/lib/fa2l/approximation.py -> build/bdist.linux-x86_64/egg/fa2l\n",
            "copying build/lib/fa2l/fa2l.py -> build/bdist.linux-x86_64/egg/fa2l\n",
            "copying build/lib/fa2l/structures.py -> build/bdist.linux-x86_64/egg/fa2l\n",
            "byte-compiling build/bdist.linux-x86_64/egg/fa2l/force.py to force.cpython-36.pyc\n",
            "byte-compiling build/bdist.linux-x86_64/egg/fa2l/__init__.py to __init__.cpython-36.pyc\n",
            "byte-compiling build/bdist.linux-x86_64/egg/fa2l/approximation.py to approximation.cpython-36.pyc\n",
            "byte-compiling build/bdist.linux-x86_64/egg/fa2l/fa2l.py to fa2l.cpython-36.pyc\n",
            "byte-compiling build/bdist.linux-x86_64/egg/fa2l/structures.py to structures.cpython-36.pyc\n",
            "creating build/bdist.linux-x86_64/egg/EGG-INFO\n",
            "copying fa2l.egg-info/PKG-INFO -> build/bdist.linux-x86_64/egg/EGG-INFO\n",
            "copying fa2l.egg-info/SOURCES.txt -> build/bdist.linux-x86_64/egg/EGG-INFO\n",
            "copying fa2l.egg-info/dependency_links.txt -> build/bdist.linux-x86_64/egg/EGG-INFO\n",
            "copying fa2l.egg-info/requires.txt -> build/bdist.linux-x86_64/egg/EGG-INFO\n",
            "copying fa2l.egg-info/top_level.txt -> build/bdist.linux-x86_64/egg/EGG-INFO\n",
            "zip_safe flag not set; analyzing archive contents...\n",
            "creating 'dist/fa2l-0.2.1-py3.6.egg' and adding 'build/bdist.linux-x86_64/egg' to it\n",
            "removing 'build/bdist.linux-x86_64/egg' (and everything under it)\n",
            "Processing fa2l-0.2.1-py3.6.egg\n",
            "Copying fa2l-0.2.1-py3.6.egg to /usr/local/lib/python3.6/dist-packages\n",
            "Adding fa2l 0.2.1 to easy-install.pth file\n",
            "\n",
            "Installed /usr/local/lib/python3.6/dist-packages/fa2l-0.2.1-py3.6.egg\n",
            "Processing dependencies for fa2l==0.2.1\n",
            "Searching for networkx<3,>=2.4\n",
            "Reading https://pypi.org/simple/networkx/\n",
            "Downloading https://files.pythonhosted.org/packages/9b/cd/dc52755d30ba41c60243235460961fc28022e5b6731f16c268667625baea/networkx-2.5-py3-none-any.whl#sha256=8c5812e9f798d37c50570d15c4a69d5710a18d77bafc903ee9c5fba7454c616c\n",
            "Best match: networkx 2.5\n",
            "Processing networkx-2.5-py3-none-any.whl\n",
            "Installing networkx-2.5-py3-none-any.whl to /usr/local/lib/python3.6/dist-packages\n",
            "Adding networkx 2.5 to easy-install.pth file\n",
            "\n",
            "Installed /usr/local/lib/python3.6/dist-packages/networkx-2.5-py3.6.egg\n",
            "Searching for numpy==1.19.5\n",
            "Best match: numpy 1.19.5\n",
            "Adding numpy 1.19.5 to easy-install.pth file\n",
            "Installing f2py script to /usr/local/bin\n",
            "Installing f2py3 script to /usr/local/bin\n",
            "Installing f2py3.6 script to /usr/local/bin\n",
            "\n",
            "Using /usr/local/lib/python3.6/dist-packages\n",
            "Searching for decorator==4.4.2\n",
            "Best match: decorator 4.4.2\n",
            "Adding decorator 4.4.2 to easy-install.pth file\n",
            "\n",
            "Using /usr/local/lib/python3.6/dist-packages\n",
            "Finished processing dependencies for fa2l==0.2.1\n"
          ],
          "name": "stdout"
        }
      ]
    },
    {
      "cell_type": "markdown",
      "metadata": {
        "id": "zgppcp5CWpI_"
      },
      "source": [
        "# **Data setup**"
      ]
    },
    {
      "cell_type": "code",
      "metadata": {
        "colab": {
          "base_uri": "https://localhost:8080/",
          "height": 419
        },
        "id": "YYxrcs9k6aio",
        "outputId": "d1dae290-2906-470d-f4c3-8a8ea62e1d28"
      },
      "source": [
        "df_domain = pd.read_csv(\"/content/drive/MyDrive/Colab Notebooks/cascade/domain_frequency.tsv\",sep='\\t')\n",
        "df_domain.reset_index(drop=True, inplace=True)\n",
        "df_domain"
      ],
      "execution_count": 8,
      "outputs": [
        {
          "output_type": "execute_result",
          "data": {
            "text/html": [
              "<div>\n",
              "<style scoped>\n",
              "    .dataframe tbody tr th:only-of-type {\n",
              "        vertical-align: middle;\n",
              "    }\n",
              "\n",
              "    .dataframe tbody tr th {\n",
              "        vertical-align: top;\n",
              "    }\n",
              "\n",
              "    .dataframe thead th {\n",
              "        text-align: right;\n",
              "    }\n",
              "</style>\n",
              "<table border=\"1\" class=\"dataframe\">\n",
              "  <thead>\n",
              "    <tr style=\"text-align: right;\">\n",
              "      <th></th>\n",
              "      <th>domain</th>\n",
              "      <th>freq</th>\n",
              "    </tr>\n",
              "  </thead>\n",
              "  <tbody>\n",
              "    <tr>\n",
              "      <th>0</th>\n",
              "      <td>nytimes.com</td>\n",
              "      <td>5721</td>\n",
              "    </tr>\n",
              "    <tr>\n",
              "      <th>1</th>\n",
              "      <td>theguardian.com</td>\n",
              "      <td>3824</td>\n",
              "    </tr>\n",
              "    <tr>\n",
              "      <th>2</th>\n",
              "      <td>reuters.com</td>\n",
              "      <td>3327</td>\n",
              "    </tr>\n",
              "    <tr>\n",
              "      <th>3</th>\n",
              "      <td>statnews.com</td>\n",
              "      <td>3204</td>\n",
              "    </tr>\n",
              "    <tr>\n",
              "      <th>4</th>\n",
              "      <td>washingtonpost.com</td>\n",
              "      <td>2885</td>\n",
              "    </tr>\n",
              "    <tr>\n",
              "      <th>...</th>\n",
              "      <td>...</td>\n",
              "      <td>...</td>\n",
              "    </tr>\n",
              "    <tr>\n",
              "      <th>12969</th>\n",
              "      <td>tn-elderlaw.com</td>\n",
              "      <td>1</td>\n",
              "    </tr>\n",
              "    <tr>\n",
              "      <th>12970</th>\n",
              "      <td>opinyon.net</td>\n",
              "      <td>1</td>\n",
              "    </tr>\n",
              "    <tr>\n",
              "      <th>12971</th>\n",
              "      <td>croxteth-hall.co.uk</td>\n",
              "      <td>1</td>\n",
              "    </tr>\n",
              "    <tr>\n",
              "      <th>12972</th>\n",
              "      <td>faktoje.al</td>\n",
              "      <td>1</td>\n",
              "    </tr>\n",
              "    <tr>\n",
              "      <th>12973</th>\n",
              "      <td>information-age.com</td>\n",
              "      <td>1</td>\n",
              "    </tr>\n",
              "  </tbody>\n",
              "</table>\n",
              "<p>12974 rows × 2 columns</p>\n",
              "</div>"
            ],
            "text/plain": [
              "                    domain  freq\n",
              "0              nytimes.com  5721\n",
              "1          theguardian.com  3824\n",
              "2              reuters.com  3327\n",
              "3             statnews.com  3204\n",
              "4       washingtonpost.com  2885\n",
              "...                    ...   ...\n",
              "12969      tn-elderlaw.com     1\n",
              "12970          opinyon.net     1\n",
              "12971  croxteth-hall.co.uk     1\n",
              "12972           faktoje.al     1\n",
              "12973  information-age.com     1\n",
              "\n",
              "[12974 rows x 2 columns]"
            ]
          },
          "metadata": {
            "tags": []
          },
          "execution_count": 8
        }
      ]
    },
    {
      "cell_type": "code",
      "metadata": {
        "colab": {
          "base_uri": "https://localhost:8080/"
        },
        "id": "i3K9m23pbSYD",
        "outputId": "f1dc6a71-25f5-4923-f226-ee9b63999e50"
      },
      "source": [
        "\n",
        "\n",
        "df1 = pd.read_csv('/content/drive/MyDrive/Colab Notebooks/cascade/tweets_labeled_us_en.tsv',sep='\\t')\n",
        "df2 = pd.read_csv('/content/drive/MyDrive/Colab Notebooks/cascade/tweets_unlabeled_us_en.tsv',sep='\\t')\n",
        "df1.shape,df2.shape"
      ],
      "execution_count": 9,
      "outputs": [
        {
          "output_type": "stream",
          "text": [
            "/usr/local/lib/python3.6/dist-packages/IPython/core/interactiveshell.py:2718: DtypeWarning: Columns (14) have mixed types.Specify dtype option on import or set low_memory=False.\n",
            "  interactivity=interactivity, compiler=compiler, result=result)\n",
            "/usr/local/lib/python3.6/dist-packages/IPython/core/interactiveshell.py:2718: DtypeWarning: Columns (29,33,34) have mixed types.Specify dtype option on import or set low_memory=False.\n",
            "  interactivity=interactivity, compiler=compiler, result=result)\n"
          ],
          "name": "stderr"
        },
        {
          "output_type": "execute_result",
          "data": {
            "text/plain": [
              "((43566, 53), (89802, 53))"
            ]
          },
          "metadata": {
            "tags": []
          },
          "execution_count": 9
        }
      ]
    },
    {
      "cell_type": "code",
      "metadata": {
        "colab": {
          "base_uri": "https://localhost:8080/"
        },
        "id": "F7_VoLDGfxtM",
        "outputId": "5a5ac8d7-edd8-4959-e384-e3b8253e8fd1"
      },
      "source": [
        "df = df1.append(df2)\n",
        "df.columns"
      ],
      "execution_count": 10,
      "outputs": [
        {
          "output_type": "execute_result",
          "data": {
            "text/plain": [
              "Index(['user_id', 'status_id', 'created_at', 'screen_name',\n",
              "       'reply_to_status_id', 'reply_to_user_id', 'reply_to_screen_name',\n",
              "       'is_quote', 'is_retweet', 'favorite_count', 'retweet_count',\n",
              "       'quote_count', 'reply_count', 'hashtags', 'symbols', 'mentions_user_id',\n",
              "       'mentions_screen_name', 'lang', 'quoted_status_id', 'quoted_created_at',\n",
              "       'quoted_favorite_count', 'quoted_retweet_count', 'quoted_user_id',\n",
              "       'quoted_screen_name', 'quoted_name', 'quoted_followers_count',\n",
              "       'quoted_friends_count', 'quoted_statuses_count', 'retweet_status_id',\n",
              "       'retweet_created_at', 'retweet_favorite_count', 'retweet_retweet_count',\n",
              "       'retweet_user_id', 'retweet_screen_name', 'retweet_name',\n",
              "       'retweet_followers_count', 'retweet_friends_count',\n",
              "       'retweet_statuses_count', 'followers_count', 'friends_count',\n",
              "       'listed_count', 'statuses_count', 'favourites_count',\n",
              "       'account_created_at', 'in_degree', 'out_degree', 'cc', 'page_rank',\n",
              "       'url', 'resolved_url', 'domain', 'news_domain', 'polarity'],\n",
              "      dtype='object')"
            ]
          },
          "metadata": {
            "tags": []
          },
          "execution_count": 10
        }
      ]
    },
    {
      "cell_type": "code",
      "metadata": {
        "id": "7O9_voj4fl4s"
      },
      "source": [
        "\n",
        "df = df[~df['domain'].isin(['twitter.com','facebook.com','youtube.com','google.com','reddit.com','instagram.com'])]\n"
      ],
      "execution_count": 11,
      "outputs": []
    },
    {
      "cell_type": "code",
      "metadata": {
        "id": "NsMWgM1kgvpb"
      },
      "source": [
        "df_domain =  df['domain'].value_counts().rename_axis('domain').reset_index(name='freq')\n",
        "df_domain.to_csv(\"/content/drive/MyDrive/Colab Notebooks/cascade/domain_frequency.tsv\",sep='\\t',index=False)"
      ],
      "execution_count": null,
      "outputs": []
    },
    {
      "cell_type": "code",
      "metadata": {
        "colab": {
          "base_uri": "https://localhost:8080/"
        },
        "id": "Nb55i08V79bs",
        "outputId": "6e6502f8-3edc-4490-8e3a-8c4e48239e18"
      },
      "source": [
        "df['polarity'].unique()"
      ],
      "execution_count": 12,
      "outputs": [
        {
          "output_type": "execute_result",
          "data": {
            "text/plain": [
              "array(['Center', 'Lean Left', 'Lean Right', 'Right', 'Left', 'Mixed',\n",
              "       'Neutral', nan], dtype=object)"
            ]
          },
          "metadata": {
            "tags": []
          },
          "execution_count": 12
        }
      ]
    },
    {
      "cell_type": "code",
      "metadata": {
        "id": "R67E39Xr_LU6"
      },
      "source": [
        "df.loc[df['polarity'] == 'Lean Left', 'polarity'] = 'Left'\n",
        "df.loc[df['polarity'] == 'Lean Right', 'polarity'] = 'Right'\n",
        "df.loc[df['polarity'] == 'Center', 'polarity'] = 'Neutral'\n",
        "# df.loc[df['polarity'] == 'Neutral', 'polarity'] = 'Center'"
      ],
      "execution_count": 13,
      "outputs": []
    },
    {
      "cell_type": "code",
      "metadata": {
        "colab": {
          "base_uri": "https://localhost:8080/"
        },
        "id": "E8FHi9rVMKDI",
        "outputId": "6254c6f5-36ba-470a-a2a3-11199d4ce75e"
      },
      "source": [
        "df_color = df[['domain','polarity']]\n",
        "df_color.loc[df_color['polarity'] == 'Left', 'polarity'] = 'blue'\n",
        "df_color.loc[df_color['polarity'] == 'Right', 'polarity'] = 'red'\n",
        "df_color.loc[df_color['polarity'] == 'Neutral', 'polarity'] = 'gray'\n",
        "df_color.loc[df_color['polarity'] == 'Mixed', 'polarity'] = 'green'\n",
        "df_color.loc[df_color['polarity'].isna(), 'polarity'] = 'purple'\n",
        "df_color['polarity'].unique()"
      ],
      "execution_count": 14,
      "outputs": [
        {
          "output_type": "stream",
          "text": [
            "/usr/local/lib/python3.6/dist-packages/pandas/core/indexing.py:670: SettingWithCopyWarning: \n",
            "A value is trying to be set on a copy of a slice from a DataFrame\n",
            "\n",
            "See the caveats in the documentation: https://pandas.pydata.org/pandas-docs/stable/user_guide/indexing.html#returning-a-view-versus-a-copy\n",
            "  iloc._setitem_with_indexer(indexer, value)\n",
            "/usr/local/lib/python3.6/dist-packages/ipykernel_launcher.py:2: SettingWithCopyWarning: \n",
            "A value is trying to be set on a copy of a slice from a DataFrame\n",
            "\n",
            "See the caveats in the documentation: https://pandas.pydata.org/pandas-docs/stable/user_guide/indexing.html#returning-a-view-versus-a-copy\n",
            "  \n",
            "/usr/local/lib/python3.6/dist-packages/ipykernel_launcher.py:3: SettingWithCopyWarning: \n",
            "A value is trying to be set on a copy of a slice from a DataFrame\n",
            "\n",
            "See the caveats in the documentation: https://pandas.pydata.org/pandas-docs/stable/user_guide/indexing.html#returning-a-view-versus-a-copy\n",
            "  This is separate from the ipykernel package so we can avoid doing imports until\n",
            "/usr/local/lib/python3.6/dist-packages/ipykernel_launcher.py:4: SettingWithCopyWarning: \n",
            "A value is trying to be set on a copy of a slice from a DataFrame\n",
            "\n",
            "See the caveats in the documentation: https://pandas.pydata.org/pandas-docs/stable/user_guide/indexing.html#returning-a-view-versus-a-copy\n",
            "  after removing the cwd from sys.path.\n",
            "/usr/local/lib/python3.6/dist-packages/ipykernel_launcher.py:5: SettingWithCopyWarning: \n",
            "A value is trying to be set on a copy of a slice from a DataFrame\n",
            "\n",
            "See the caveats in the documentation: https://pandas.pydata.org/pandas-docs/stable/user_guide/indexing.html#returning-a-view-versus-a-copy\n",
            "  \"\"\"\n",
            "/usr/local/lib/python3.6/dist-packages/ipykernel_launcher.py:6: SettingWithCopyWarning: \n",
            "A value is trying to be set on a copy of a slice from a DataFrame\n",
            "\n",
            "See the caveats in the documentation: https://pandas.pydata.org/pandas-docs/stable/user_guide/indexing.html#returning-a-view-versus-a-copy\n",
            "  \n"
          ],
          "name": "stderr"
        },
        {
          "output_type": "execute_result",
          "data": {
            "text/plain": [
              "array(['gray', 'blue', 'red', 'green', 'purple'], dtype=object)"
            ]
          },
          "metadata": {
            "tags": []
          },
          "execution_count": 14
        }
      ]
    },
    {
      "cell_type": "code",
      "metadata": {
        "colab": {
          "base_uri": "https://localhost:8080/"
        },
        "id": "NYTQWs9S_0ug",
        "outputId": "113f213d-40b9-4268-ec72-06d7045d520d"
      },
      "source": [
        "df_color['polarity'].unique()\n",
        "# df_color"
      ],
      "execution_count": 40,
      "outputs": [
        {
          "output_type": "execute_result",
          "data": {
            "text/plain": [
              "array(['gray', 'blue', 'red', 'green', 'purple'], dtype=object)"
            ]
          },
          "metadata": {
            "tags": []
          },
          "execution_count": 40
        }
      ]
    },
    {
      "cell_type": "code",
      "metadata": {
        "colab": {
          "base_uri": "https://localhost:8080/",
          "height": 419
        },
        "id": "11mkZlU0QbTh",
        "outputId": "36cf510b-86b5-46c0-a7e3-37407af24194"
      },
      "source": [
        "df_color1=df_color.drop_duplicates(subset=['domain'])\n",
        "df_color1"
      ],
      "execution_count": 41,
      "outputs": [
        {
          "output_type": "execute_result",
          "data": {
            "text/html": [
              "<div>\n",
              "<style scoped>\n",
              "    .dataframe tbody tr th:only-of-type {\n",
              "        vertical-align: middle;\n",
              "    }\n",
              "\n",
              "    .dataframe tbody tr th {\n",
              "        vertical-align: top;\n",
              "    }\n",
              "\n",
              "    .dataframe thead th {\n",
              "        text-align: right;\n",
              "    }\n",
              "</style>\n",
              "<table border=\"1\" class=\"dataframe\">\n",
              "  <thead>\n",
              "    <tr style=\"text-align: right;\">\n",
              "      <th></th>\n",
              "      <th>domain</th>\n",
              "      <th>polarity</th>\n",
              "    </tr>\n",
              "  </thead>\n",
              "  <tbody>\n",
              "    <tr>\n",
              "      <th>0</th>\n",
              "      <td>cnbc.com</td>\n",
              "      <td>gray</td>\n",
              "    </tr>\n",
              "    <tr>\n",
              "      <th>3</th>\n",
              "      <td>reuters.com</td>\n",
              "      <td>gray</td>\n",
              "    </tr>\n",
              "    <tr>\n",
              "      <th>5</th>\n",
              "      <td>go.com</td>\n",
              "      <td>blue</td>\n",
              "    </tr>\n",
              "    <tr>\n",
              "      <th>9</th>\n",
              "      <td>washingtonexaminer.com</td>\n",
              "      <td>red</td>\n",
              "    </tr>\n",
              "    <tr>\n",
              "      <th>10</th>\n",
              "      <td>foxnews.com</td>\n",
              "      <td>red</td>\n",
              "    </tr>\n",
              "    <tr>\n",
              "      <th>...</th>\n",
              "      <td>...</td>\n",
              "      <td>...</td>\n",
              "    </tr>\n",
              "    <tr>\n",
              "      <th>89782</th>\n",
              "      <td>filmmunchin.com</td>\n",
              "      <td>purple</td>\n",
              "    </tr>\n",
              "    <tr>\n",
              "      <th>89790</th>\n",
              "      <td>cinemabang.com</td>\n",
              "      <td>purple</td>\n",
              "    </tr>\n",
              "    <tr>\n",
              "      <th>89797</th>\n",
              "      <td>jumpcutonline.co.uk</td>\n",
              "      <td>purple</td>\n",
              "    </tr>\n",
              "    <tr>\n",
              "      <th>89799</th>\n",
              "      <td>sarabangla.in</td>\n",
              "      <td>purple</td>\n",
              "    </tr>\n",
              "    <tr>\n",
              "      <th>89800</th>\n",
              "      <td>criticallyacclaimed.net</td>\n",
              "      <td>purple</td>\n",
              "    </tr>\n",
              "  </tbody>\n",
              "</table>\n",
              "<p>12974 rows × 2 columns</p>\n",
              "</div>"
            ],
            "text/plain": [
              "                        domain polarity\n",
              "0                     cnbc.com     gray\n",
              "3                  reuters.com     gray\n",
              "5                       go.com     blue\n",
              "9       washingtonexaminer.com      red\n",
              "10                 foxnews.com      red\n",
              "...                        ...      ...\n",
              "89782          filmmunchin.com   purple\n",
              "89790           cinemabang.com   purple\n",
              "89797      jumpcutonline.co.uk   purple\n",
              "89799            sarabangla.in   purple\n",
              "89800  criticallyacclaimed.net   purple\n",
              "\n",
              "[12974 rows x 2 columns]"
            ]
          },
          "metadata": {
            "tags": []
          },
          "execution_count": 41
        }
      ]
    },
    {
      "cell_type": "code",
      "metadata": {
        "colab": {
          "base_uri": "https://localhost:8080/",
          "height": 419
        },
        "id": "C8HZ9M8nOZrW",
        "outputId": "d3fe06ec-23b8-49c3-ce21-8f33e5abe492"
      },
      "source": [
        "df_domainlist = G.nodes\n",
        "domainlist = [i for i in df_domainlist]\n",
        "df12 = pd.DataFrame({'domain':domainlist}).merge(df_color1)\n",
        "color_list = df12['polarity'].to_list()\n",
        "df12\n",
        "# len(color_list)\n",
        "# domainlist\n",
        "df_color1"
      ],
      "execution_count": 51,
      "outputs": [
        {
          "output_type": "execute_result",
          "data": {
            "text/html": [
              "<div>\n",
              "<style scoped>\n",
              "    .dataframe tbody tr th:only-of-type {\n",
              "        vertical-align: middle;\n",
              "    }\n",
              "\n",
              "    .dataframe tbody tr th {\n",
              "        vertical-align: top;\n",
              "    }\n",
              "\n",
              "    .dataframe thead th {\n",
              "        text-align: right;\n",
              "    }\n",
              "</style>\n",
              "<table border=\"1\" class=\"dataframe\">\n",
              "  <thead>\n",
              "    <tr style=\"text-align: right;\">\n",
              "      <th></th>\n",
              "      <th>domain</th>\n",
              "      <th>polarity</th>\n",
              "    </tr>\n",
              "  </thead>\n",
              "  <tbody>\n",
              "    <tr>\n",
              "      <th>0</th>\n",
              "      <td>cnbc.com</td>\n",
              "      <td>gray</td>\n",
              "    </tr>\n",
              "    <tr>\n",
              "      <th>3</th>\n",
              "      <td>reuters.com</td>\n",
              "      <td>gray</td>\n",
              "    </tr>\n",
              "    <tr>\n",
              "      <th>5</th>\n",
              "      <td>go.com</td>\n",
              "      <td>blue</td>\n",
              "    </tr>\n",
              "    <tr>\n",
              "      <th>9</th>\n",
              "      <td>washingtonexaminer.com</td>\n",
              "      <td>red</td>\n",
              "    </tr>\n",
              "    <tr>\n",
              "      <th>10</th>\n",
              "      <td>foxnews.com</td>\n",
              "      <td>red</td>\n",
              "    </tr>\n",
              "    <tr>\n",
              "      <th>...</th>\n",
              "      <td>...</td>\n",
              "      <td>...</td>\n",
              "    </tr>\n",
              "    <tr>\n",
              "      <th>89782</th>\n",
              "      <td>filmmunchin.com</td>\n",
              "      <td>purple</td>\n",
              "    </tr>\n",
              "    <tr>\n",
              "      <th>89790</th>\n",
              "      <td>cinemabang.com</td>\n",
              "      <td>purple</td>\n",
              "    </tr>\n",
              "    <tr>\n",
              "      <th>89797</th>\n",
              "      <td>jumpcutonline.co.uk</td>\n",
              "      <td>purple</td>\n",
              "    </tr>\n",
              "    <tr>\n",
              "      <th>89799</th>\n",
              "      <td>sarabangla.in</td>\n",
              "      <td>purple</td>\n",
              "    </tr>\n",
              "    <tr>\n",
              "      <th>89800</th>\n",
              "      <td>criticallyacclaimed.net</td>\n",
              "      <td>purple</td>\n",
              "    </tr>\n",
              "  </tbody>\n",
              "</table>\n",
              "<p>12974 rows × 2 columns</p>\n",
              "</div>"
            ],
            "text/plain": [
              "                        domain polarity\n",
              "0                     cnbc.com     gray\n",
              "3                  reuters.com     gray\n",
              "5                       go.com     blue\n",
              "9       washingtonexaminer.com      red\n",
              "10                 foxnews.com      red\n",
              "...                        ...      ...\n",
              "89782          filmmunchin.com   purple\n",
              "89790           cinemabang.com   purple\n",
              "89797      jumpcutonline.co.uk   purple\n",
              "89799            sarabangla.in   purple\n",
              "89800  criticallyacclaimed.net   purple\n",
              "\n",
              "[12974 rows x 2 columns]"
            ]
          },
          "metadata": {
            "tags": []
          },
          "execution_count": 51
        }
      ]
    },
    {
      "cell_type": "markdown",
      "metadata": {
        "id": "Q7P2C-R6WPax"
      },
      "source": [
        "## **Draw Network**"
      ]
    },
    {
      "cell_type": "code",
      "metadata": {
        "colab": {
          "base_uri": "https://localhost:8080/",
          "height": 248
        },
        "id": "VnKe2iwREP-E",
        "outputId": "8989d12f-09c6-45fc-96f9-4febe2a73fce"
      },
      "source": [
        "import networkx as nx\n",
        "from fa2l import force_atlas2_layout\n",
        "import matplotlib.pyplot as plt\n",
        "import pandas as pd\n",
        "import random\n",
        "\n",
        "df_domain = pd.read_csv(\"/content/drive/MyDrive/Colab Notebooks/cascade/domain_frequency.tsv\",sep='\\t')\n",
        "# G = nx.erdos_renyi_graph(100, 0.15, directed=False)\n",
        "G =  nx.read_edgelist(\"/content/drive/MyDrive/Colab Notebooks/cascade/domain_net_above_5.edgelist\", nodetype=str, data=((\"Freq\", int),))\n",
        "df_domainlist = G.nodes\n",
        "domainlist = [i for i in df_domainlist]\n",
        "df11 = pd.DataFrame({'domain':domainlist}).merge(df_domain)\n",
        "node_list = df11['freq'].to_list()\n",
        "df12 = pd.DataFrame({'domain':domainlist}).merge(df_color1)\n",
        "color_list = df12['polarity'].to_list()\n",
        "\n",
        "positions = force_atlas2_layout(G,\n",
        "                                iterations=1000,\n",
        "                                pos_list=None,\n",
        "                                node_masses=None,\n",
        "                                outbound_attraction_distribution=False,\n",
        "                                lin_log_mode=False,\n",
        "                                prevent_overlapping=False,\n",
        "                                edge_weight_influence=0.0,\n",
        "\n",
        "                                jitter_tolerance=1.0,\n",
        "                                barnes_hut_optimize=True,\n",
        "                                barnes_hut_theta=0.5,\n",
        "\n",
        "                                scaling_ratio=2.0,\n",
        "                                strong_gravity_mode=False,\n",
        "                                multithread=False,\n",
        "                                gravity=1.0)\n",
        "\n",
        "wlist = [w['Freq']*0.1 for u,v,w in G.edges(data=True)]\n",
        "\n",
        "nlist=[0.1*i for i in node_list]\n",
        "fontlist = [0.1*i for i in node_list]\n",
        "# nlist = node_list\n",
        "colorlist = color_list\n",
        "\n",
        "# nlist=[1 for i in G.nodes(data=True)]\n",
        "# # nx.draw_networkx_nodes(G, positions, node_size=30,label=True, nodelist = nlist, node_color=\"blue\",alpha=0.4)\n",
        "# # nx.draw_networkx_edges(G, positions, edge_color=\"red\",arrowsize=10,arrows=True, width = wlist,alpha=0.5)\n",
        "nx.draw_networkx(G, positions,node_size=nlist,node_color=colorlist,edge_color=\"indigo\",width = wlist,font_size = 5,alpha=0.4,with_labels=True,\n",
        "                 label = \"Graph\",font_weight = 'bold')\n",
        "\n",
        "# nx.draw_networkx(G, positions, cmap=plt.get_cmap('jet'), node_size=50, with_labels=False)\n",
        "plt.savefig(\"/content/drive/MyDrive/Colab Notebooks/cascade/graphsnaps/graph.pdf\")\n",
        "plt.show()"
      ],
      "execution_count": 68,
      "outputs": [
        {
          "output_type": "display_data",
          "data": {
            "image/png": "[encoded data removed]",
            "text/plain": [
              "<Figure size 432x288 with 1 Axes>"
            ]
          },
          "metadata": {
            "tags": []
          }
        }
      ]
    },
    {
      "cell_type": "code",
      "metadata": {
        "colab": {
          "base_uri": "https://localhost:8080/",
          "height": 419
        },
        "id": "U07nF45MQi91",
        "outputId": "d62a8d80-c751-474d-aab7-cc828278abea"
      },
      "source": [
        "df_color\n"
      ],
      "execution_count": 38,
      "outputs": [
        {
          "output_type": "execute_result",
          "data": {
            "text/html": [
              "<div>\n",
              "<style scoped>\n",
              "    .dataframe tbody tr th:only-of-type {\n",
              "        vertical-align: middle;\n",
              "    }\n",
              "\n",
              "    .dataframe tbody tr th {\n",
              "        vertical-align: top;\n",
              "    }\n",
              "\n",
              "    .dataframe thead th {\n",
              "        text-align: right;\n",
              "    }\n",
              "</style>\n",
              "<table border=\"1\" class=\"dataframe\">\n",
              "  <thead>\n",
              "    <tr style=\"text-align: right;\">\n",
              "      <th></th>\n",
              "      <th>domain</th>\n",
              "      <th>polarity</th>\n",
              "    </tr>\n",
              "  </thead>\n",
              "  <tbody>\n",
              "    <tr>\n",
              "      <th>0</th>\n",
              "      <td>cnbc.com</td>\n",
              "      <td>gray</td>\n",
              "    </tr>\n",
              "    <tr>\n",
              "      <th>1</th>\n",
              "      <td>cnbc.com</td>\n",
              "      <td>gray</td>\n",
              "    </tr>\n",
              "    <tr>\n",
              "      <th>2</th>\n",
              "      <td>cnbc.com</td>\n",
              "      <td>gray</td>\n",
              "    </tr>\n",
              "    <tr>\n",
              "      <th>3</th>\n",
              "      <td>reuters.com</td>\n",
              "      <td>gray</td>\n",
              "    </tr>\n",
              "    <tr>\n",
              "      <th>4</th>\n",
              "      <td>reuters.com</td>\n",
              "      <td>gray</td>\n",
              "    </tr>\n",
              "    <tr>\n",
              "      <th>...</th>\n",
              "      <td>...</td>\n",
              "      <td>...</td>\n",
              "    </tr>\n",
              "    <tr>\n",
              "      <th>89796</th>\n",
              "      <td>indiewire.com</td>\n",
              "      <td>purple</td>\n",
              "    </tr>\n",
              "    <tr>\n",
              "      <th>89797</th>\n",
              "      <td>jumpcutonline.co.uk</td>\n",
              "      <td>purple</td>\n",
              "    </tr>\n",
              "    <tr>\n",
              "      <th>89798</th>\n",
              "      <td>avforums.com</td>\n",
              "      <td>purple</td>\n",
              "    </tr>\n",
              "    <tr>\n",
              "      <th>89799</th>\n",
              "      <td>sarabangla.in</td>\n",
              "      <td>purple</td>\n",
              "    </tr>\n",
              "    <tr>\n",
              "      <th>89800</th>\n",
              "      <td>criticallyacclaimed.net</td>\n",
              "      <td>purple</td>\n",
              "    </tr>\n",
              "  </tbody>\n",
              "</table>\n",
              "<p>103687 rows × 2 columns</p>\n",
              "</div>"
            ],
            "text/plain": [
              "                        domain polarity\n",
              "0                     cnbc.com     gray\n",
              "1                     cnbc.com     gray\n",
              "2                     cnbc.com     gray\n",
              "3                  reuters.com     gray\n",
              "4                  reuters.com     gray\n",
              "...                        ...      ...\n",
              "89796            indiewire.com   purple\n",
              "89797      jumpcutonline.co.uk   purple\n",
              "89798             avforums.com   purple\n",
              "89799            sarabangla.in   purple\n",
              "89800  criticallyacclaimed.net   purple\n",
              "\n",
              "[103687 rows x 2 columns]"
            ]
          },
          "metadata": {
            "tags": []
          },
          "execution_count": 38
        }
      ]
    },
    {
      "cell_type": "code",
      "metadata": {
        "colab": {
          "base_uri": "https://localhost:8080/"
        },
        "id": "TDIeEBoUOtOY",
        "outputId": "906ba1a3-3239-4036-ce06-93997d16111a"
      },
      "source": [
        "len(color_list),G.number_of_nodes(),len(df_domainlist)"
      ],
      "execution_count": 19,
      "outputs": [
        {
          "output_type": "execute_result",
          "data": {
            "text/plain": [
              "(37, 37, 37)"
            ]
          },
          "metadata": {
            "tags": []
          },
          "execution_count": 19
        }
      ]
    },
    {
      "cell_type": "code",
      "metadata": {
        "colab": {
          "base_uri": "https://localhost:8080/"
        },
        "id": "ENEtpX17ptk4",
        "outputId": "a6be8690-1f58-4e6f-a74a-4d90e9870cbe"
      },
      "source": [
        "df.loc[df['domain'] == 'nytimes.com','user_id']"
      ],
      "execution_count": null,
      "outputs": [
        {
          "output_type": "execute_result",
          "data": {
            "text/plain": [
              "51                4698806923\n",
              "54       1014836514935726080\n",
              "57                   1767741\n",
              "59                2914144864\n",
              "80                1140665858\n",
              "                ...         \n",
              "42607              495415645\n",
              "43122               20146913\n",
              "43125               20146913\n",
              "43214             1040080514\n",
              "43379             1055383897\n",
              "Name: user_id, Length: 5721, dtype: int64"
            ]
          },
          "metadata": {
            "tags": []
          },
          "execution_count": 255
        }
      ]
    },
    {
      "cell_type": "code",
      "metadata": {
        "colab": {
          "base_uri": "https://localhost:8080/",
          "height": 198
        },
        "id": "bzCWLe6jhJ5v",
        "outputId": "11980878-778d-4bba-c706-474856e72061"
      },
      "source": [
        "# pd.concat([df_domain, df_domain], axis=1, join=\"inner\")\n",
        "domain_freq = df_domain.merge(graph_domain, how='inner', on='domain')\n",
        "domain_freq.columns"
      ],
      "execution_count": null,
      "outputs": [
        {
          "output_type": "error",
          "ename": "NameError",
          "evalue": "ignored",
          "traceback": [
            "\u001b[0;31m---------------------------------------------------------------------------\u001b[0m",
            "\u001b[0;31mNameError\u001b[0m                                 Traceback (most recent call last)",
            "\u001b[0;32m<ipython-input-256-b3cd4d7c7fce>\u001b[0m in \u001b[0;36m<module>\u001b[0;34m()\u001b[0m\n\u001b[1;32m      1\u001b[0m \u001b[0;31m# pd.concat([df_domain, df_domain], axis=1, join=\"inner\")\u001b[0m\u001b[0;34m\u001b[0m\u001b[0;34m\u001b[0m\u001b[0;34m\u001b[0m\u001b[0m\n\u001b[0;32m----> 2\u001b[0;31m \u001b[0mdomain_freq\u001b[0m \u001b[0;34m=\u001b[0m \u001b[0mdf_domain\u001b[0m\u001b[0;34m.\u001b[0m\u001b[0mmerge\u001b[0m\u001b[0;34m(\u001b[0m\u001b[0mgraph_domain\u001b[0m\u001b[0;34m,\u001b[0m \u001b[0mhow\u001b[0m\u001b[0;34m=\u001b[0m\u001b[0;34m'inner'\u001b[0m\u001b[0;34m,\u001b[0m \u001b[0mon\u001b[0m\u001b[0;34m=\u001b[0m\u001b[0;34m'domain'\u001b[0m\u001b[0;34m)\u001b[0m\u001b[0;34m\u001b[0m\u001b[0;34m\u001b[0m\u001b[0m\n\u001b[0m\u001b[1;32m      3\u001b[0m \u001b[0mdomain_freq\u001b[0m\u001b[0;34m.\u001b[0m\u001b[0mcolumns\u001b[0m\u001b[0;34m\u001b[0m\u001b[0;34m\u001b[0m\u001b[0m\n",
            "\u001b[0;31mNameError\u001b[0m: name 'graph_domain' is not defined"
          ]
        }
      ]
    },
    {
      "cell_type": "markdown",
      "metadata": {
        "id": "-OjU-o8TXEkz"
      },
      "source": [
        "# **Probability Calculation**"
      ]
    },
    {
      "cell_type": "code",
      "metadata": {
        "colab": {
          "base_uri": "https://localhost:8080/"
        },
        "id": "nAjJX0Q_YviA",
        "outputId": "a0a762f7-28b7-4433-8997-cf47efb5b33c"
      },
      "source": [
        "# this dataframe is the nodes related with the graph  only \n",
        "df13 = df12.loc[df12['polarity'] == 'purple']\n",
        "(df13)\n",
        "unlabeled_list = df13['domain'].to_list()\n",
        "unlabeled_list\n",
        "# the main all domain color dataframe is the below\n",
        "# df_color1"
      ],
      "execution_count": 54,
      "outputs": [
        {
          "output_type": "execute_result",
          "data": {
            "text/plain": [
              "['tweetedtimes.com',\n",
              " 'statnews.com',\n",
              " 'jamanetwork.com',\n",
              " 'cbc.ca',\n",
              " 'ctvnews.ca',\n",
              " 'globalnews.ca',\n",
              " 'bylinetimes.com',\n",
              " 'wired.co.uk',\n",
              " 'indiatimes.com']"
            ]
          },
          "metadata": {
            "tags": []
          },
          "execution_count": 54
        }
      ]
    },
    {
      "cell_type": "code",
      "metadata": {
        "colab": {
          "base_uri": "https://localhost:8080/",
          "height": 1000
        },
        "id": "6NxRZOlWXvjL",
        "outputId": "443f2d20-c320-4594-d50d-1810ab5abb4c"
      },
      "source": [
        "new_df_color1 = df_color1\n",
        "iteration = 2\n",
        "\n",
        "for iter in range(0,iteration):\n",
        "  print('iteration##############################',iter)\n",
        "  for i in unlabeled_list:\n",
        "    neig=G.neighbors(i)\n",
        "    dummylis=[]\n",
        "    print('-------------',i)\n",
        "    for x in neig:\n",
        "      dummylis.append(x)\n",
        "    print(dummylis)\n",
        "    dummy_df = pd.DataFrame({'domain':dummylis}).merge(new_df_color1)\n",
        "    dumy_color = dummy_df['polarity'].to_list()\n",
        "    print(dumy_color)\n",
        "    c=Counter(dumy_color)\n",
        "    # print(c.values())\n",
        "    \n",
        "    blue_prob = c['blue']/sum(c.values())\n",
        "    red_prob = c['red']/sum(c.values())\n",
        "    gray_prob = c['gray']/sum(c.values())\n",
        "    mixed_prob = c['green']/sum(c.values())\n",
        "    \n",
        "    if blue_prob > max(red_prob, gray_prob, mixed_prob):\n",
        "      # df.loc[df['polarity'] == 'Lean Left', 'polarity'] = 'Left'\n",
        "      new_df_color1.loc[new_df_color1['domain'] == i,'polarity'] = 'blue'\n",
        "      # print(new_df_color1.loc[new_df_color1['domain'] == x,'polarity'])\n",
        "      print(i,'---> blue')\n",
        "    if red_prob > max(red_prob, gray_prob, mixed_prob):\n",
        "      new_df_color1.loc[new_df_color1['domain'] == i,'polarity'] = 'red'\n",
        "      print(i,'---->red')\n",
        "    if gray_prob > max(red_prob, gray_prob, mixed_prob):\n",
        "      new_df_color1.loc[new_df_color1['domain'] == i,'polarity'] = 'gray'\n",
        "      print(i,'---->gray')\n",
        "    if mixed_prob > max(red_prob, gray_prob, mixed_prob):\n",
        "      new_df_color1.loc[new_df_color1['domain'] == i,'polarity'] = 'green'\n",
        "      print(i,'---->green')\n",
        "      \n",
        "df_color1 = new_df_color1"
      ],
      "execution_count": 65,
      "outputs": [
        {
          "output_type": "stream",
          "text": [
            "iteration############################## 0\n",
            "------------- tweetedtimes.com\n",
            "['statnews.com']\n",
            "['purple']\n",
            "------------- statnews.com\n",
            "['tweetedtimes.com', 'bloomberg.com', 'jamanetwork.com', 'nytimes.com', 'theguardian.com', 'washingtonpost.com', 'cnn.com', 'nbcnews.com']\n",
            "['purple', 'blue', 'purple', 'blue', 'blue', 'blue', 'blue', 'blue']\n",
            "statnews.com ---> blue\n",
            "------------- jamanetwork.com\n",
            "['statnews.com']\n",
            "['blue']\n",
            "jamanetwork.com ---> blue\n",
            "------------- cbc.ca\n",
            "['nytimes.com', 'ctvnews.ca', 'globalnews.ca', 'washingtonpost.com']\n",
            "['blue', 'purple', 'purple', 'blue']\n",
            "cbc.ca ---> blue\n",
            "------------- ctvnews.ca\n",
            "['cbc.ca']\n",
            "['blue']\n",
            "ctvnews.ca ---> blue\n",
            "------------- globalnews.ca\n",
            "['cbc.ca']\n",
            "['blue']\n",
            "globalnews.ca ---> blue\n",
            "------------- bylinetimes.com\n",
            "['theguardian.com']\n",
            "['blue']\n",
            "bylinetimes.com ---> blue\n",
            "------------- wired.co.uk\n",
            "['theguardian.com']\n",
            "['blue']\n",
            "wired.co.uk ---> blue\n",
            "------------- indiatimes.com\n",
            "['nytimes.com']\n",
            "['blue']\n",
            "indiatimes.com ---> blue\n",
            "iteration############################## 1\n",
            "------------- tweetedtimes.com\n",
            "['statnews.com']\n",
            "['blue']\n",
            "tweetedtimes.com ---> blue\n",
            "------------- statnews.com\n",
            "['tweetedtimes.com', 'bloomberg.com', 'jamanetwork.com', 'nytimes.com', 'theguardian.com', 'washingtonpost.com', 'cnn.com', 'nbcnews.com']\n",
            "['blue', 'blue', 'blue', 'blue', 'blue', 'blue', 'blue', 'blue']\n",
            "statnews.com ---> blue\n",
            "------------- jamanetwork.com\n",
            "['statnews.com']\n",
            "['blue']\n",
            "jamanetwork.com ---> blue\n",
            "------------- cbc.ca\n",
            "['nytimes.com', 'ctvnews.ca', 'globalnews.ca', 'washingtonpost.com']\n",
            "['blue', 'blue', 'blue', 'blue']\n",
            "cbc.ca ---> blue\n",
            "------------- ctvnews.ca\n",
            "['cbc.ca']\n",
            "['blue']\n",
            "ctvnews.ca ---> blue\n",
            "------------- globalnews.ca\n",
            "['cbc.ca']\n",
            "['blue']\n",
            "globalnews.ca ---> blue\n",
            "------------- bylinetimes.com\n",
            "['theguardian.com']\n",
            "['blue']\n",
            "bylinetimes.com ---> blue\n",
            "------------- wired.co.uk\n",
            "['theguardian.com']\n",
            "['blue']\n",
            "wired.co.uk ---> blue\n",
            "------------- indiatimes.com\n",
            "['nytimes.com']\n",
            "['blue']\n",
            "indiatimes.com ---> blue\n"
          ],
          "name": "stdout"
        },
        {
          "output_type": "stream",
          "text": [
            "/usr/local/lib/python3.6/dist-packages/pandas/core/indexing.py:670: SettingWithCopyWarning: \n",
            "A value is trying to be set on a copy of a slice from a DataFrame\n",
            "\n",
            "See the caveats in the documentation: https://pandas.pydata.org/pandas-docs/stable/user_guide/indexing.html#returning-a-view-versus-a-copy\n",
            "  iloc._setitem_with_indexer(indexer, value)\n",
            "/usr/local/lib/python3.6/dist-packages/ipykernel_launcher.py:25: SettingWithCopyWarning: \n",
            "A value is trying to be set on a copy of a slice from a DataFrame\n",
            "\n",
            "See the caveats in the documentation: https://pandas.pydata.org/pandas-docs/stable/user_guide/indexing.html#returning-a-view-versus-a-copy\n"
          ],
          "name": "stderr"
        },
        {
          "output_type": "execute_result",
          "data": {
            "application/vnd.google.colaboratory.intrinsic+json": {
              "type": "string"
            },
            "text/plain": [
              "\"\\nprint('check:',new_df_color1.loc[new_df_color1['domain'] == 'statnews.com','polarity'])\\n\""
            ]
          },
          "metadata": {
            "tags": []
          },
          "execution_count": 65
        }
      ]
    }
  ]
}